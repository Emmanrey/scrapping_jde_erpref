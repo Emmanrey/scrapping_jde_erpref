{
 "cells": [
  {
   "cell_type": "code",
   "execution_count": 11,
   "metadata": {},
   "outputs": [],
   "source": [
    "# Librerias que necesito\n",
    "\n",
    "import requests\n",
    "import pandas as pd\n",
    "import warnings\n",
    "from bs4 import BeautifulSoup\n",
    "warnings.filterwarnings('ignore')"
   ]
  },
  {
   "cell_type": "code",
   "execution_count": 12,
   "metadata": {},
   "outputs": [],
   "source": [
    "# Obtener el html de la pagina\n",
    "\n",
    "page_search = 'https://jde.erpref.com/?schema='\n",
    "schema      = '920'\n",
    "url         = page_search + schema\n",
    "r           = requests.get(url)\n",
    "soup        = BeautifulSoup(r.text, 'html.parser')\n",
    "df          = pd.DataFrame()"
   ]
  },
  {
   "cell_type": "code",
   "execution_count": 13,
   "metadata": {},
   "outputs": [],
   "source": [
    "# Busco los datos de la tabla\n",
    "\n",
    "table = soup.find_all('table')[3]\n",
    "\n",
    "for row in table.find_all('tr'):\n",
    "    cols = row.find_all('td')\n",
    "    cols = [ele.text.strip() for ele in cols]\n",
    "    df   = df.append(pd.Series(cols), ignore_index=True)\n"
   ]
  },
  {
   "cell_type": "code",
   "execution_count": 14,
   "metadata": {},
   "outputs": [],
   "source": [
    "# Preparo los datos\n",
    "\n",
    "df.columns = ['NTabla', 'Schema', 'Table', 'Prefix', 'Columns', 'Indexes', 'Description', 'Type', 'Report', 'Category']\n",
    "df         = df.dropna(axis=0, how='any')"
   ]
  },
  {
   "cell_type": "code",
   "execution_count": 15,
   "metadata": {},
   "outputs": [],
   "source": [
    "# Exporto los datos\n",
    "\n",
    "df.to_excel('TablasJDE_Schema' + schema + '.xlsx', index=False)\n",
    "# df.to_csv('TablasJDE_Schema' + schema + '.csv', index=False)\n"
   ]
  }
 ],
 "metadata": {
  "kernelspec": {
   "display_name": "Python 3.9.12 ('base')",
   "language": "python",
   "name": "python3"
  },
  "language_info": {
   "codemirror_mode": {
    "name": "ipython",
    "version": 3
   },
   "file_extension": ".py",
   "mimetype": "text/x-python",
   "name": "python",
   "nbconvert_exporter": "python",
   "pygments_lexer": "ipython3",
   "version": "3.9.12"
  },
  "orig_nbformat": 4,
  "vscode": {
   "interpreter": {
    "hash": "ddf3e8b071f79b65aa5a6eacc6d7a4da526436a30385ec5aefc6e0b3f586480e"
   }
  }
 },
 "nbformat": 4,
 "nbformat_minor": 2
}
